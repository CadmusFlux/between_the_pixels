{
 "cells": [
  {
   "cell_type": "code",
   "execution_count": 1,
   "metadata": {},
   "outputs": [],
   "source": [
    "import cv2\n",
    "import pandas as pd\n",
    "import numpy as np\n",
    "import shutil\n",
    "import os"
   ]
  },
  {
   "cell_type": "code",
   "execution_count": 2,
   "metadata": {},
   "outputs": [],
   "source": [
    "physics_101 = r\"C:/MLAI/between the pixels/Datasets/phys101/scenarios\""
   ]
  },
  {
   "cell_type": "markdown",
   "metadata": {},
   "source": [
    "### Pre-processing dataset"
   ]
  },
  {
   "cell_type": "code",
   "execution_count": 3,
   "metadata": {},
   "outputs": [],
   "source": [
    "import os\n",
    "\n",
    "def print_all_file_paths(path):\n",
    "\n",
    "    file_path = {}\n",
    "    for root, _, files in os.walk(path):\n",
    "        for file in files:\n",
    "            temp = os.path.join(root, file)\n",
    "            file_path[temp] = temp.split(os.sep)[6:]\n",
    "\n",
    "    return file_path\n",
    "\n",
    "# Specify the folder path\n",
    "folder_path = r\"C:\\MLAI\\between the pixels\\Datasets\\phys101\\scenarios\"\n",
    "master_ds = print_all_file_paths(folder_path)"
   ]
  },
  {
   "cell_type": "code",
   "execution_count": 81,
   "metadata": {},
   "outputs": [],
   "source": [
    "df = pd.DataFrame.from_dict(master_ds, orient='index').reset_index()\n",
    "df.columns = [\"Path\",\"Activtiy\",\"object1\",\"object2\",\"Instance\",\"Camera_type\"]"
   ]
  },
  {
   "cell_type": "code",
   "execution_count": 82,
   "metadata": {},
   "outputs": [],
   "source": [
    "for i,source in enumerate(df[\"Path\"]):\n",
    "    shutil.copy(source,r\"C:\\MLAI\\between the pixels\\Datasets\\phys101\\phys101_inputs\" + \"\\{0}.mp4\".format(i))\n",
    "\n",
    "df.insert(0, 'file_name', df.index.astype(str) + \".mp4\")"
   ]
  },
  {
   "cell_type": "code",
   "execution_count": 83,
   "metadata": {},
   "outputs": [],
   "source": [
    "df.to_csv(r'C:\\MLAI\\between the pixels\\Datasets\\phys101\\og_output.csv',index=False)"
   ]
  },
  {
   "cell_type": "code",
   "execution_count": 84,
   "metadata": {},
   "outputs": [],
   "source": [
    "df = pd.read_csv(r'C:\\MLAI\\between the pixels\\Datasets\\phys101\\og_output.csv')"
   ]
  },
  {
   "cell_type": "markdown",
   "metadata": {},
   "source": [
    "#### Refining columns "
   ]
  },
  {
   "cell_type": "code",
   "execution_count": 85,
   "metadata": {},
   "outputs": [],
   "source": [
    "df_main = df.copy()"
   ]
  },
  {
   "cell_type": "code",
   "execution_count": 86,
   "metadata": {},
   "outputs": [],
   "source": [
    "# List of keywords to look for\n",
    "keywords = [\n",
    "    \"cardboard\", \"dough\", \"foam\", \"h_rubber\", \"h_wood\", \"m_coin\", \"m_pole\", \n",
    "    \"p_block\", \"p_doll\", \"p_ring\", \"p_toy\", \"porcelain\", \"rubber\", \"w_block\", \"w_pole\"\n",
    "]\n",
    "\n",
    "# Create a regex pattern\n",
    "pattern = f\"({'|'.join(keywords)})\""
   ]
  },
  {
   "cell_type": "code",
   "execution_count": 87,
   "metadata": {},
   "outputs": [],
   "source": [
    "df_main[\"object1\"] = df_main['object1'].str.lower().str.extract(pattern, expand=False)"
   ]
  },
  {
   "cell_type": "code",
   "execution_count": 72,
   "metadata": {},
   "outputs": [
    {
     "name": "stderr",
     "output_type": "stream",
     "text": [
      "C:\\Users\\ayush\\AppData\\Local\\Temp\\ipykernel_12400\\415814301.py:1: FutureWarning: The default value of regex will change from True to False in a future version.\n",
      "  df_main.Camera_type = df_main.Camera_type.str.replace(\".mp4\",\"\")\n"
     ]
    }
   ],
   "source": [
    "df_main.Camera_type = df_main.Camera_type.str.replace(\".mp4\",\"\")"
   ]
  },
  {
   "cell_type": "code",
   "execution_count": 89,
   "metadata": {},
   "outputs": [
    {
     "data": {
      "text/plain": [
       "array(['foam', 'glass', 'metal', 'rug', 'table', 'water', '01_02',\n",
       "       '02_01', '10_01', '10_02', '20_01', '20_02', 'loose', 'tight'],\n",
       "      dtype=object)"
      ]
     },
     "execution_count": 89,
     "metadata": {},
     "output_type": "execute_result"
    }
   ],
   "source": [
    "df_main.object2.unique()"
   ]
  },
  {
   "cell_type": "code",
   "execution_count": null,
   "metadata": {},
   "outputs": [],
   "source": []
  }
 ],
 "metadata": {
  "kernelspec": {
   "display_name": "MLAI",
   "language": "python",
   "name": "python3"
  },
  "language_info": {
   "codemirror_mode": {
    "name": "ipython",
    "version": 3
   },
   "file_extension": ".py",
   "mimetype": "text/x-python",
   "name": "python",
   "nbconvert_exporter": "python",
   "pygments_lexer": "ipython3",
   "version": "3.9.10"
  }
 },
 "nbformat": 4,
 "nbformat_minor": 2
}
