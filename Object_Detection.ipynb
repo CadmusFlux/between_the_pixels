{
 "cells": [
  {
   "cell_type": "code",
   "execution_count": 1,
   "id": "7607925b",
   "metadata": {},
   "outputs": [],
   "source": [
    "import cv2\n",
    "from ultralytics import YOLO\n",
    "import pandas as pd\n",
    "import numpy as np\n",
    "import ultralytics\n",
    "import shutil\n",
    "import os\n"
   ]
  },
  {
   "cell_type": "code",
   "execution_count": 10,
   "id": "9bb4cd96",
   "metadata": {},
   "outputs": [],
   "source": [
    "physics_101 = r\"C:/MLAI/between the pixels/Datasets/phys101/scenarios/liquid/cardboard_05/water/01/\"\n",
    "experiments = r\"c:\\\\MLAI\\\\between the pixels\\\\Experiments\\\\\""
   ]
  },
  {
   "cell_type": "code",
   "execution_count": 3,
   "id": "b3e7a50d",
   "metadata": {},
   "outputs": [],
   "source": [
    "# if not os.path.exists(temp_img):\n",
    "#     print(f\"File not found: {temp_img}\")\n",
    "# else:\n",
    "#     img = cv2.imread(temp_img, cv2.IMREAD_COLOR)\n",
    "#     if img is None:\n",
    "#         print(\"cv2.imread failed to load the image.\")\n",
    "#     else:\n",
    "#         cv2.imshow('Image', img)\n",
    "#         cv2.waitKey(0)\n",
    "#         cv2.destroyAllWindows()"
   ]
  },
  {
   "cell_type": "markdown",
   "id": "b8b5cf3f",
   "metadata": {},
   "source": [
    "### Test Bounding box predicitons"
   ]
  },
  {
   "cell_type": "code",
   "execution_count": 8,
   "id": "f7e46c0c",
   "metadata": {},
   "outputs": [
    {
     "name": "stdout",
     "output_type": "stream",
     "text": [
      "\n",
      "image 1/1 c:\\MLAI\\between the pixels\\Experiments\\unsplash.jpg: 480x640 7 persons, 1 car, 43.3ms\n",
      "Speed: 10.3ms preprocess, 43.3ms inference, 11.0ms postprocess per image at shape (1, 3, 480, 640)\n",
      "Results saved to \u001b[1mc:\\MLAI\\between the pixels\\Experiments\\runs\\predict\u001b[0m\n",
      "1 label saved to c:\\MLAI\\between the pixels\\Experiments\\runs\\predict\\labels\n"
     ]
    }
   ],
   "source": [
    "# Load the model\n",
    "model = YOLO(\"yolo11n.pt\")  # Replace with the correct path to your custom model if needed\n",
    "model_obb = YOLO(\"yolo11n-obb.pt\")  # Load the OBB model\n",
    "\n",
    "# Run prediction on the image\n",
    "results = model.predict(source=experiments+\"unsplash.jpg\",save_txt=True,project=experiments+\"runs\\\\\")\n",
    "\n",
    "# Optionally save the results\n",
    "for r in results:\n",
    "    r.save(filename=experiments+\"runs\\\\\"+\"prediction_result_obb.jpg\")  # Saves the image with bounding boxes"
   ]
  },
  {
   "cell_type": "markdown",
   "id": "c1ebbed7",
   "metadata": {},
   "source": [
    "### Video Object Detection Real - time"
   ]
  },
  {
   "cell_type": "code",
   "execution_count": null,
   "id": "f5cbd704",
   "metadata": {},
   "outputs": [],
   "source": [
    "from ultralytics import YOLO\n",
    "\n",
    "\n",
    "# Load a YOLOv8 model (e.g., pretrained 'yolov8n.pt')\n",
    "model = YOLO('yolov8n.pt')\n",
    "\n",
    "\n",
    "# Define a function to process video and feed frames to YOLO\n",
    "def process_video_with_yolo(video_path):\n",
    "    cap = cv2.VideoCapture(video_path)\n",
    "\n",
    "    # Check the dimensions of the video, error if dimensions are not fed to output\n",
    "    frame_width = int(cap.get(cv2.CAP_PROP_FRAME_WIDTH))\n",
    "    frame_height = int(cap.get(cv2.CAP_PROP_FRAME_HEIGHT))\n",
    "\n",
    "    fourcc = cv2.VideoWriter_fourcc(*'XVID')\n",
    "    out = cv2.VideoWriter(experiments + 'output.avi', fourcc, 20.0, (frame_width, frame_height))\n",
    "\n",
    "    while cap.isOpened():\n",
    "        ret, frame = cap.read()\n",
    "        if not ret:\n",
    "            break\n",
    "        # Run YOLO inference on the frame\n",
    "        results = model(frame)\n",
    "\n",
    "        # Display results (optional)\n",
    "        annotated_frame = results[0].plot()\n",
    "        \n",
    "        out.write(annotated_frame)\n",
    "\n",
    "        cv2.imshow('YOLO Detection', annotated_frame)\n",
    "        if cv2.waitKey(1) & 0xFF == ord('q'):\n",
    "            break\n",
    "    cap.release()\n",
    "    cv2.destroyAllWindows()\n",
    "\n",
    "# Example usage:\n",
    "process_video_with_yolo(physics_101+\"Camera_1.mp4\")"
   ]
  },
  {
   "cell_type": "markdown",
   "id": "7f714c6c",
   "metadata": {},
   "source": [
    "### Breakdown of video into frames"
   ]
  },
  {
   "cell_type": "code",
   "execution_count": 30,
   "id": "ae52e492",
   "metadata": {},
   "outputs": [
    {
     "name": "stdout",
     "output_type": "stream",
     "text": [
      "Done! 33 frames extracted to c:\\\\MLAI\\\\between the pixels\\\\Experiments\\\\extracted_frames\\\n"
     ]
    }
   ],
   "source": [
    "import cv2\n",
    "import os\n",
    "\n",
    "def extract_frames(video_path, output_folder):\n",
    "    # Create output folder if it doesn't exist\n",
    "    os.makedirs(output_folder, exist_ok=True)\n",
    "\n",
    "    # Open video file\n",
    "    cap = cv2.VideoCapture(video_path)\n",
    "    if not cap.isOpened():\n",
    "        print(\"Error: Could not open video file:\", video_path)\n",
    "        return\n",
    "\n",
    "    frame_count = 0\n",
    "\n",
    "    while True:\n",
    "        ret, frame = cap.read()\n",
    "        if not ret:\n",
    "            break\n",
    "\n",
    "        # Save each frame as a JPEG file\n",
    "        frame_filename = os.path.join(output_folder, f\"frame_{frame_count:04d}.jpg\")\n",
    "        cv2.imwrite(frame_filename, frame)\n",
    "\n",
    "        frame_count += 1\n",
    "\n",
    "    cap.release()\n",
    "    print(f\"Done! {frame_count} frames extracted to {output_folder}\")\n",
    "\n",
    "\n",
    "video_path = physics_101+\"Camera_1.mp4\"\n",
    "output_folder = experiments + 'extracted_frames\\\\'\n",
    "\n",
    "extract_frames(video_path, output_folder)"
   ]
  },
  {
   "cell_type": "code",
   "execution_count": null,
   "id": "46cd0859",
   "metadata": {},
   "outputs": [],
   "source": []
  }
 ],
 "metadata": {
  "kernelspec": {
   "display_name": "MLAI",
   "language": "python",
   "name": "python3"
  },
  "language_info": {
   "codemirror_mode": {
    "name": "ipython",
    "version": 3
   },
   "file_extension": ".py",
   "mimetype": "text/x-python",
   "name": "python",
   "nbconvert_exporter": "python",
   "pygments_lexer": "ipython3",
   "version": "3.9.10"
  }
 },
 "nbformat": 4,
 "nbformat_minor": 5
}
