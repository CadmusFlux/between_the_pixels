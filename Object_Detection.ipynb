{
 "cells": [
  {
   "cell_type": "code",
   "execution_count": 1,
   "id": "7607925b",
   "metadata": {},
   "outputs": [],
   "source": [
    "import cv2\n",
    "from ultralytics import YOLO\n",
    "import pandas as pd\n",
    "import numpy as np\n",
    "import ultralytics\n",
    "import shutil\n",
    "import os"
   ]
  },
  {
   "cell_type": "code",
   "execution_count": 2,
   "id": "9bb4cd96",
   "metadata": {},
   "outputs": [],
   "source": [
    "physics_101 = r\"C:/MLAI/between the pixels/Datasets/phys101/scenarios/liquid/cardboard_05/water/01/\"\n",
    "experiments = r\"c:\\\\MLAI\\\\between the pixels\\\\Experiments\\\\\""
   ]
  },
  {
   "cell_type": "code",
   "execution_count": 3,
   "id": "b3e7a50d",
   "metadata": {},
   "outputs": [],
   "source": [
    "# if not os.path.exists(temp_img):\n",
    "#     print(f\"File not found: {temp_img}\")\n",
    "# else:\n",
    "#     img = cv2.imread(temp_img, cv2.IMREAD_COLOR)\n",
    "#     if img is None:\n",
    "#         print(\"cv2.imread failed to load the image.\")\n",
    "#     else:\n",
    "#         cv2.imshow('Image', img)\n",
    "#         cv2.waitKey(0)\n",
    "#         cv2.destroyAllWindows()"
   ]
  },
  {
   "cell_type": "markdown",
   "id": "b8b5cf3f",
   "metadata": {},
   "source": [
    "### Test Bounding box predicitons"
   ]
  },
  {
   "cell_type": "code",
   "execution_count": 16,
   "id": "bbddeb75",
   "metadata": {},
   "outputs": [],
   "source": [
    "def generate_obb_image(model,source_path,output_path):\n",
    "\n",
    "    if not os.path.exists(source_path) or not os.path.isdir(output_path):\n",
    "        print(f\"Source path does not exist or output path is not a directory: {source_path}, {output_path}\")\n",
    "        \n",
    "        return True\n",
    "    else:\n",
    "        yolo_model = YOLO(model)\n",
    "\n",
    "        results = yolo_model.predict(source=source_path,save_txt=True,save = True,project=output_path,name='.',exist_ok=True)\n",
    "        return results"
   ]
  },
  {
   "cell_type": "code",
   "execution_count": 18,
   "id": "8d4ae60f",
   "metadata": {},
   "outputs": [
    {
     "name": "stdout",
     "output_type": "stream",
     "text": [
      "\n",
      "image 1/1 c:\\MLAI\\between the pixels\\Experiments\\unsplash.jpg: 480x640 7 persons, 1 car, 94.9ms\n",
      "Speed: 6.4ms preprocess, 94.9ms inference, 3.4ms postprocess per image at shape (1, 3, 480, 640)\n",
      "Results saved to \u001b[1mc:\\MLAI\\between the pixels\\Experiments\\runs\u001b[0m\n",
      "1 label saved to c:\\MLAI\\between the pixels\\Experiments\\runs\\labels\n"
     ]
    },
    {
     "data": {
      "text/plain": [
       "[ultralytics.engine.results.Results object with attributes:\n",
       " \n",
       " boxes: ultralytics.engine.results.Boxes object\n",
       " keypoints: None\n",
       " masks: None\n",
       " names: {0: 'person', 1: 'bicycle', 2: 'car', 3: 'motorcycle', 4: 'airplane', 5: 'bus', 6: 'train', 7: 'truck', 8: 'boat', 9: 'traffic light', 10: 'fire hydrant', 11: 'stop sign', 12: 'parking meter', 13: 'bench', 14: 'bird', 15: 'cat', 16: 'dog', 17: 'horse', 18: 'sheep', 19: 'cow', 20: 'elephant', 21: 'bear', 22: 'zebra', 23: 'giraffe', 24: 'backpack', 25: 'umbrella', 26: 'handbag', 27: 'tie', 28: 'suitcase', 29: 'frisbee', 30: 'skis', 31: 'snowboard', 32: 'sports ball', 33: 'kite', 34: 'baseball bat', 35: 'baseball glove', 36: 'skateboard', 37: 'surfboard', 38: 'tennis racket', 39: 'bottle', 40: 'wine glass', 41: 'cup', 42: 'fork', 43: 'knife', 44: 'spoon', 45: 'bowl', 46: 'banana', 47: 'apple', 48: 'sandwich', 49: 'orange', 50: 'broccoli', 51: 'carrot', 52: 'hot dog', 53: 'pizza', 54: 'donut', 55: 'cake', 56: 'chair', 57: 'couch', 58: 'potted plant', 59: 'bed', 60: 'dining table', 61: 'toilet', 62: 'tv', 63: 'laptop', 64: 'mouse', 65: 'remote', 66: 'keyboard', 67: 'cell phone', 68: 'microwave', 69: 'oven', 70: 'toaster', 71: 'sink', 72: 'refrigerator', 73: 'book', 74: 'clock', 75: 'vase', 76: 'scissors', 77: 'teddy bear', 78: 'hair drier', 79: 'toothbrush'}\n",
       " obb: None\n",
       " orig_img: array([[[  0,   1,  79],\n",
       "         [  0,   4,  82],\n",
       "         [  0,   3,  81],\n",
       "         ...,\n",
       "         [134, 149, 168],\n",
       "         [137, 152, 171],\n",
       "         [135, 149, 171]],\n",
       " \n",
       "        [[  0,   2,  80],\n",
       "         [  0,   4,  82],\n",
       "         [  1,   5,  83],\n",
       "         ...,\n",
       "         [132, 147, 166],\n",
       "         [133, 148, 167],\n",
       "         [140, 154, 176]],\n",
       " \n",
       "        [[  1,   5,  83],\n",
       "         [  1,   5,  83],\n",
       "         [  4,   8,  86],\n",
       "         ...,\n",
       "         [135, 150, 169],\n",
       "         [134, 149, 168],\n",
       "         [131, 145, 167]],\n",
       " \n",
       "        ...,\n",
       " \n",
       "        [[ 47,  65,  72],\n",
       "         [ 41,  59,  66],\n",
       "         [ 36,  54,  61],\n",
       "         ...,\n",
       "         [  0,   2,   0],\n",
       "         [  0,   2,   0],\n",
       "         [  0,   3,   1]],\n",
       " \n",
       "        [[ 38,  56,  63],\n",
       "         [ 37,  55,  62],\n",
       "         [ 36,  54,  61],\n",
       "         ...,\n",
       "         [  0,   2,   0],\n",
       "         [  0,   2,   0],\n",
       "         [  0,   3,   1]],\n",
       " \n",
       "        [[ 32,  50,  57],\n",
       "         [ 38,  56,  63],\n",
       "         [ 40,  58,  65],\n",
       "         ...,\n",
       "         [  0,   2,   0],\n",
       "         [  0,   2,   0],\n",
       "         [  0,   3,   1]]], dtype=uint8)\n",
       " orig_shape: (3571, 4761)\n",
       " path: 'c:\\\\MLAI\\\\between the pixels\\\\Experiments\\\\unsplash.jpg'\n",
       " probs: None\n",
       " save_dir: 'c:\\\\MLAI\\\\between the pixels\\\\Experiments\\\\runs'\n",
       " speed: {'preprocess': 6.409999999959837, 'inference': 94.92229999978008, 'postprocess': 3.3606000001782377}]"
      ]
     },
     "execution_count": 18,
     "metadata": {},
     "output_type": "execute_result"
    }
   ],
   "source": [
    "generate_obb_image(\"yolo11n.pt\",experiments+\"unsplash.jpg\",experiments+\"runs\\\\\")"
   ]
  },
  {
   "cell_type": "markdown",
   "id": "c1ebbed7",
   "metadata": {},
   "source": [
    "### Video Object Detection Real - time"
   ]
  },
  {
   "cell_type": "code",
   "execution_count": null,
   "id": "f5cbd704",
   "metadata": {},
   "outputs": [],
   "source": [
    "from ultralytics import YOLO\n",
    "\n",
    "\n",
    "# Load a YOLOv8 model (e.g., pretrained 'yolov8n.pt')\n",
    "model = YOLO('yolov8n.pt')\n",
    "\n",
    "\n",
    "# Define a function to process video and feed frames to YOLO\n",
    "def process_video_with_yolo(video_path):\n",
    "    cap = cv2.VideoCapture(video_path)\n",
    "\n",
    "    # Check the dimensions of the video, error if dimensions are not fed to output\n",
    "    frame_width = int(cap.get(cv2.CAP_PROP_FRAME_WIDTH))\n",
    "    frame_height = int(cap.get(cv2.CAP_PROP_FRAME_HEIGHT))\n",
    "\n",
    "    fourcc = cv2.VideoWriter_fourcc(*'XVID')\n",
    "    out = cv2.VideoWriter(experiments + 'output.avi', fourcc, 20.0, (frame_width, frame_height))\n",
    "\n",
    "    while cap.isOpened():\n",
    "        ret, frame = cap.read()\n",
    "        if not ret:\n",
    "            break\n",
    "        # Run YOLO inference on the frame\n",
    "        results = model(frame)\n",
    "\n",
    "        # Display results (optional)\n",
    "        annotated_frame = results[0].plot()\n",
    "        \n",
    "        out.write(annotated_frame)\n",
    "\n",
    "        cv2.imshow('YOLO Detection', annotated_frame)\n",
    "        if cv2.waitKey(1) & 0xFF == ord('q'):\n",
    "            break\n",
    "    cap.release()\n",
    "    cv2.destroyAllWindows()\n",
    "\n",
    "# Example usage:\n",
    "process_video_with_yolo(physics_101+\"Camera_1.mp4\")"
   ]
  },
  {
   "cell_type": "markdown",
   "id": "7f714c6c",
   "metadata": {},
   "source": [
    "### Breakdown of video into frames"
   ]
  },
  {
   "cell_type": "code",
   "execution_count": null,
   "id": "ae52e492",
   "metadata": {},
   "outputs": [
    {
     "name": "stdout",
     "output_type": "stream",
     "text": [
      "Done! 33 frames extracted to c:\\\\MLAI\\\\between the pixels\\\\Experiments\\\\extracted_frames\\\n"
     ]
    }
   ],
   "source": [
    "import cv2\n",
    "import os\n",
    "\n",
    "def extract_frames(video_path, output_folder):\n",
    "\n",
    "    # Create output folder if it doesn't exist\n",
    "    os.makedirs(output_folder, exist_ok=True)\n",
    "\n",
    "    # Open video file\n",
    "    cap = cv2.VideoCapture(video_path)\n",
    "    if not cap.isOpened():\n",
    "        print(\"Error: Could not open video file:\", video_path)\n",
    "        return\n",
    "\n",
    "    # Break individua frames and assign respective frame number to file_name\n",
    "    frame_count = 0\n",
    "\n",
    "    while True:\n",
    "        ret, frame = cap.read()\n",
    "        if not ret:\n",
    "            break\n",
    "\n",
    "        # Save each frame as a JPEG file\n",
    "        frame_filename = os.path.join(output_folder, f\"frame_{frame_count:04d}.jpg\")\n",
    "        cv2.imwrite(frame_filename, frame)\n",
    "\n",
    "        frame_count += 1\n",
    "\n",
    "    cap.release()\n",
    "    print(f\"Done! {frame_count} frames extracted to {output_folder}\")"
   ]
  },
  {
   "cell_type": "code",
   "execution_count": null,
   "id": "0e4dab45",
   "metadata": {},
   "outputs": [],
   "source": [
    "video_path = physics_101+\"Camera_1.mp4\"\n",
    "output_folder = experiments + 'extracted_frames\\\\'\n",
    "\n",
    "extract_frames(video_path, output_folder)"
   ]
  },
  {
   "cell_type": "code",
   "execution_count": null,
   "id": "c1377dfb",
   "metadata": {},
   "outputs": [],
   "source": []
  }
 ],
 "metadata": {
  "kernelspec": {
   "display_name": "MLAI",
   "language": "python",
   "name": "python3"
  },
  "language_info": {
   "codemirror_mode": {
    "name": "ipython",
    "version": 3
   },
   "file_extension": ".py",
   "mimetype": "text/x-python",
   "name": "python",
   "nbconvert_exporter": "python",
   "pygments_lexer": "ipython3",
   "version": "3.9.10"
  }
 },
 "nbformat": 4,
 "nbformat_minor": 5
}
